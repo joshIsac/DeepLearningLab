{
  "cells": [
    {
      "cell_type": "code",
      "execution_count": 1,
      "metadata": {
        "id": "m_i7SjucxDTS"
      },
      "outputs": [
        {
          "name": "stderr",
          "output_type": "stream",
          "text": [
            "C:\\Users\\JOSHWIN ISAC\\AppData\\Local\\Temp\\ipykernel_3136\\3091600690.py:2: DeprecationWarning: \n",
            "Pyarrow will become a required dependency of pandas in the next major release of pandas (pandas 3.0),\n",
            "(to allow more performant data types, such as the Arrow string type, and better interoperability with other libraries)\n",
            "but was not found to be installed on your system.\n",
            "If this would cause problems for you,\n",
            "please provide us feedback at https://github.com/pandas-dev/pandas/issues/54466\n",
            "        \n",
            "  import pandas as pd\n"
          ]
        }
      ],
      "source": [
        "import numpy as np \n",
        "import pandas as pd\n",
        "import matplotlib.pyplot as plt\n",
        "from sklearn.metrics import accuracy_score,precision_score,recall_score,f1_score\n",
        "from sklearn.model_selection import train_test_split\n",
        "import tensorflow as tf\n",
        "from tensorflow.keras.models import Sequential\n",
        "from tensorflow.keras.layers import Conv2D, MaxPooling2D, Dense, Flatten, Dropout,BatchNormalization\n",
        "from tensorflow.keras.optimizers import Adam"
      ]
    },
    {
      "cell_type": "code",
      "execution_count": 2,
      "metadata": {
        "id": "SEVyMu1CzOrN"
      },
      "outputs": [
        {
          "name": "stdout",
          "output_type": "stream",
          "text": [
            "Class Names: \n",
            " ['cane', 'cavallo', 'elefante', 'farfalla', 'gallina', 'gatto', 'mucca', 'pecora', 'ragno', 'scoiattolo']\n",
            "Number of Classes: 10\n"
          ]
        }
      ],
      "source": [
        "import os\n",
        "import cv2\n",
        "path='D:/dataset for lab programs/archive/raw-img'\n",
        "classes= sorted(os.listdir(path))\n",
        "\n",
        "# Count the number of classes\n",
        "num_classes = len(classes)\n",
        "\n",
        "# Print the class names and the total number of classes\n",
        "print(\"Class Names: \\n\", classes)\n",
        "print(\"Number of Classes:\", num_classes)\n"
      ]
    },
    {
      "cell_type": "code",
      "execution_count": 3,
      "metadata": {},
      "outputs": [
        {
          "name": "stdout",
          "output_type": "stream",
          "text": [
            "Class Names: \n",
            " ['cane', 'cavallo', 'elefante', 'farfalla', 'gallina', 'gatto', 'mucca', 'pecora', 'ragno', 'scoiattolo']\n",
            "Number of Classes: 10\n"
          ]
        }
      ],
      "source": [
        "# Get the number of samples in each class\n",
        "# Initialize an empty dictionary to store the count of samples in each class\n",
        "class_counts = []\n",
        "\n",
        "# Iterate through each class and count the number of samples\n",
        "for class_name in classes:\n",
        "    class_path = os.path.join(path, class_name)\n",
        "    num_samples = len(os.listdir(class_path))\n",
        "    class_counts.append(num_samples)\n",
        "\n",
        "print(\"Class Names: \\n\", classes)\n",
        "print(\"Number of Classes:\", len(classes))"
      ]
    },
    {
      "cell_type": "code",
      "execution_count": 4,
      "metadata": {},
      "outputs": [
        {
          "data": {
            "text/plain": [
              "{'cane': 4863,\n",
              " 'cavallo': 2623,\n",
              " 'elefante': 1446,\n",
              " 'farfalla': 2112,\n",
              " 'gallina': 3098,\n",
              " 'gatto': 1668,\n",
              " 'mucca': 1866,\n",
              " 'pecora': 1820,\n",
              " 'ragno': 4821,\n",
              " 'scoiattolo': 1862}"
            ]
          },
          "execution_count": 4,
          "metadata": {},
          "output_type": "execute_result"
        }
      ],
      "source": [
        "class_name_size = dict(zip(classes, class_counts))\n",
        "class_name_size"
      ]
    },
    {
      "cell_type": "code",
      "execution_count": 5,
      "metadata": {},
      "outputs": [
        {
          "data": {
            "image/png": "[encoded data removed]",
            "text/plain": [
              "<Figure size 1000x500 with 1 Axes>"
            ]
          },
          "metadata": {},
          "output_type": "display_data"
        }
      ],
      "source": [
        "import seaborn as sn \n",
        "# Create the bar plot\n",
        "plt.figure(figsize=(10, 5))\n",
        "sn.barplot(x=classes, y=class_counts)\n",
        "\n",
        "# Add a horizontal line to show the mean number of images across all classes\n",
        "plt.axhline(np.mean(class_counts), color='black', linestyle=':', label=\"Average number of images per class\")\n",
        "\n",
        "# Add a legend to the plot\n",
        "plt.legend()\n",
        "\n",
        "# Show the plot\n",
        "plt.show()"
      ]
    },
    {
      "cell_type": "code",
      "execution_count": 6,
      "metadata": {},
      "outputs": [],
      "source": [
        "from sklearn.model_selection import train_test_split\n",
        "import numpy as np\n",
        "\n",
        "# Load images and preprocessing\n",
        "images = []\n",
        "labels = []\n",
        "img_width, img_height = 100, 100  # Define the image dimensions\n",
        "\n",
        "# Iterate through the class folders\n",
        "for class_folder in os.listdir(path):\n",
        "    class_path = os.path.join(path, class_folder)\n",
        "    for img_file in os.listdir(class_path):\n",
        "        img = cv2.imread(os.path.join(class_path, img_file))\n",
        "        img = cv2.resize(img, (img_width, img_height))\n",
        "        img = img.astype('float32') / 255  # Apply normalization\n",
        "        images.append(img)\n",
        "        labels.append(classes.index(class_folder))  # Assign labels based on the class index\n",
        "\n",
        "# Convert to numpy array\n",
        "X = np.array(images)\n",
        "y = np.array(labels)\n",
        "\n",
        "# Partition the dataset into training, validation, and test sets\n",
        "X_train, X_val_test, y_train, y_val_test = train_test_split(X, y, test_size=0.3, random_state=42)\n",
        "X_val, X_test, y_val, y_test = train_test_split(X_val_test, y_val_test, test_size=0.5, random_state=42)\n"
      ]
    },
    {
      "cell_type": "code",
      "execution_count": null,
      "metadata": {},
      "outputs": [
        {
          "name": "stderr",
          "output_type": "stream",
          "text": [
            "c:\\Users\\JOSHWIN ISAC\\AppData\\Local\\Programs\\Python\\Python311\\Lib\\site-packages\\keras\\src\\layers\\convolutional\\base_conv.py:99: UserWarning: Do not pass an `input_shape`/`input_dim` argument to a layer. When using Sequential models, prefer using an `Input(shape)` object as the first layer in the model instead.\n",
            "  super().__init__(\n"
          ]
        }
      ],
      "source": [
        "# Create the CNN model\n",
        "model = Sequential([\n",
        "    Conv2D(32, (3, 3), activation='relu', input_shape=(img_width, img_height, 3)),\n",
        "    MaxPooling2D((2, 2)),\n",
        "    Conv2D(64, (3, 3), activation='relu'),\n",
        "    MaxPooling2D((2, 2)),\n",
        "    Conv2D(128, (3, 3), activation='relu'),\n",
        "    MaxPooling2D((2, 2)),\n",
        "    Flatten(),\n",
        "    Dense(128, activation='relu'),\n",
        "    Dense(num_classes, activation='softmax')  # Output layer with softmax activation\n",
        "])\n",
        "\n",
        "# Add batch normalization layers\n",
        "model.add(BatchNormalization())"
      ]
    }
  ],
  "metadata": {
    "colab": {
      "provenance": []
    },
    "kernelspec": {
      "display_name": "Python 3",
      "name": "python3"
    },
    "language_info": {
      "codemirror_mode": {
        "name": "ipython",
        "version": 3
      },
      "file_extension": ".py",
      "mimetype": "text/x-python",
      "name": "python",
      "nbconvert_exporter": "python",
      "pygments_lexer": "ipython3",
      "version": "3.11.8"
    }
  },
  "nbformat": 4,
  "nbformat_minor": 0
}
