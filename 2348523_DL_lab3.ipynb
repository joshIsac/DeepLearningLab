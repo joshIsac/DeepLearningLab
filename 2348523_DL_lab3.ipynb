{
  "nbformat": 4,
  "nbformat_minor": 0,
  "metadata": {
    "colab": {
      "provenance": [],
      "authorship_tag": "ABX9TyMoE2sgTT3OoOUPpoOUGzkN",
      "include_colab_link": true
    },
    "kernelspec": {
      "name": "python3",
      "display_name": "Python 3"
    },
    "language_info": {
      "name": "python"
    }
  },
  "cells": [
    {
      "cell_type": "markdown",
      "metadata": {
        "id": "view-in-github",
        "colab_type": "text"
      },
      "source": [
        "<a href=\"https://colab.research.google.com/github/joshIsac/DeepLearningLab/blob/main/2348523_DL_lab3.ipynb\" target=\"_parent\"><img src=\"https://colab.research.google.com/assets/colab-badge.svg\" alt=\"Open In Colab\"/></a>"
      ]
    },
    {
      "cell_type": "code",
      "execution_count": 1,
      "metadata": {
        "id": "fS4NXddj55d7"
      },
      "outputs": [],
      "source": [
        "import pandas as pd\n",
        "import numpy as np\n",
        "import seaborn as sn\n",
        "import matplotlib.pyplot as plt\n"
      ]
    },
    {
      "cell_type": "code",
      "source": [
        "def optimization(w):\n",
        "  return 0.5*w**2-30*w +100\n",
        "#derivative\n",
        "def df(w):\n",
        "  return w-30\n",
        "# Initialize parameters\n",
        "w = 20  # initial price\n",
        "v = 0  # momentum term\n",
        "lr = 0.1\n",
        "momentum = 0.9\n",
        "\n",
        "# Perform iterations\n",
        "for i in range(10):\n",
        " v = momentum * v - lr * df(w)\n",
        " w= w+v\n",
        " print(\"Iteration\", i+1, \"- Optimal price:\", w)\n",
        "\n",
        "# Print the optimal price after 3 iterations\n",
        "print(\"The optimal price after 10 iterations is:\", w)"
      ],
      "metadata": {
        "colab": {
          "base_uri": "https://localhost:8080/"
        },
        "id": "WUGbaNJa6JOX",
        "outputId": "3e61a2bd-5b06-4c3f-d653-b9c2f10b0a2d"
      },
      "execution_count": 10,
      "outputs": [
        {
          "output_type": "stream",
          "name": "stdout",
          "text": [
            "Iteration 1 - Optimal price: 21.0\n",
            "Iteration 2 - Optimal price: 22.8\n",
            "Iteration 3 - Optimal price: 25.14\n",
            "Iteration 4 - Optimal price: 27.732\n",
            "Iteration 5 - Optimal price: 30.2916\n",
            "Iteration 6 - Optimal price: 32.56608\n",
            "Iteration 7 - Optimal price: 34.356504\n",
            "Iteration 8 - Optimal price: 35.5322352\n",
            "Iteration 9 - Optimal price: 36.037169760000005\n",
            "Iteration 10 - Optimal price: 35.887893888\n",
            "The optimal price after 3 iterations is: 35.887893888\n"
          ]
        }
      ]
    },
    {
      "cell_type": "code",
      "source": [],
      "metadata": {
        "id": "Ks7urjve_Jvo"
      },
      "execution_count": null,
      "outputs": []
    }
  ]
}